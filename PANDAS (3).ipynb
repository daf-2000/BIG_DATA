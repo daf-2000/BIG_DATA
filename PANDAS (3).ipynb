{
 "cells": [
  {
   "cell_type": "code",
   "execution_count": 77,
   "metadata": {
    "collapsed": false,
    "scrolled": true
   },
   "outputs": [
    {
     "name": "stdout",
     "output_type": "stream",
     "text": [
      "   author_id author_name\n",
      "0          1    Тургенев\n",
      "1          2       Чехов\n",
      "2          3  Островский\n",
      "####\n",
      "   author_id            book_title  price\n",
      "0          1           Отцы и дети    450\n",
      "1          1                 Рудин    300\n",
      "2          1     Дворянское гнездо    350\n",
      "3          2      Толстый и тонкий    500\n",
      "4          2       Дама с собачкой    450\n",
      "5          3                 Гроза    370\n",
      "6          3  Таланты и поклонники    290\n",
      "###\n",
      "   author_id author_name            book_title  price\n",
      "0          1    Тургенев           Отцы и дети    450\n",
      "1          1    Тургенев                 Рудин    300\n",
      "2          1    Тургенев     Дворянское гнездо    350\n",
      "3          2       Чехов      Толстый и тонкий    500\n",
      "4          2       Чехов       Дама с собачкой    450\n",
      "5          3  Островский                 Гроза    370\n",
      "6          3  Островский  Таланты и поклонники    290\n",
      "###\n",
      "                   mean  min  max\n",
      "author_name                      \n",
      "Островский   330.000000  290  370\n",
      "Тургенев     366.666667  300  450\n",
      "Чехов        475.000000  450  500\n",
      "###\n",
      "   author_id author_name            book_title  price    cover\n",
      "0          1    Тургенев           Отцы и дети    450  твердая\n",
      "1          1    Тургенев                 Рудин    300   мягкая\n",
      "2          1    Тургенев     Дворянское гнездо    350   мягкая\n",
      "3          2       Чехов      Толстый и тонкий    500  твердая\n",
      "4          2       Чехов       Дама с собачкой    450  твердая\n",
      "5          3  Островский                 Гроза    370   мягкая\n",
      "6          3  Островский  Таланты и поклонники    290   мягкая\n",
      "###\n",
      "cover        мягкая  твердая\n",
      "author_name                 \n",
      "Островский    660.0      0.0\n",
      "Тургенев      650.0    450.0\n",
      "Чехов           0.0    950.0\n"
     ]
    }
   ],
   "source": [
    "import pandas as pd\n",
    "import numpy as np\n",
    "a = {\"author_id\" : [1, 2, 3], \"author_name\": ['Тургенев', 'Чехов', 'Островский']}\n",
    "authors = pd.DataFrame(a)\n",
    "print(authors)\n",
    "print(\"####\")\n",
    "b = {\"author_id\":[1, 1, 1, 2, 2, 3, 3], \n",
    "     \"book_title\":['Отцы и дети', 'Рудин', 'Дворянское гнездо', 'Толстый и тонкий', 'Дама с собачкой', 'Гроза', 'Таланты и поклонники'], \n",
    "     \"price\":[450, 300, 350, 500, 450, 370, 290]}\n",
    "book = pd.DataFrame(b)\n",
    "print(book)\n",
    "print(\"###\")\n",
    "authors_price = pd.merge(authors, book, on='author_id', how='inner')\n",
    "print(authors_price)\n",
    "print(\"###\")\n",
    "top5 = authors_price.nlargest(5, \"price\")\n",
    "groupby = authors_price.groupby(\"author_name\")\n",
    "authors_stat_1 = pd.merge(pd.DataFrame(groupby[\"price\"].min()), pd.DataFrame(groupby[\"price\"].max()),\n",
    "                        on='author_name', how='inner')\n",
    "#authors_stat.columns = [\"MIN\", \"MAX\", \"MEAN\"]\n",
    "authors_stat = pd.merge(pd.DataFrame(groupby[\"price\"].mean()), authors_stat_1, on='author_name', how='inner')\n",
    "authors_stat.columns = ['mean', 'min', 'max']\n",
    "print(authors_stat)\n",
    "print(\"###\")\n",
    "authors_price[\"cover\"] = ['твердая', 'мягкая', 'мягкая', 'твердая', 'твердая', 'мягкая', 'мягкая']\n",
    "print(authors_price)\n",
    "print(\"###\")\n",
    "table = pd.pivot_table(authors_price, values='price', index=[\"author_name\"], columns=['cover'], aggfunc=np.sum)\n",
    "table[\"твердая\"].fillna(0, inplace=True)\n",
    "table[\"мягкая\"].fillna(0, inplace=True)\n",
    "print(table)\n"
   ]
  },
  {
   "cell_type": "code",
   "execution_count": null,
   "metadata": {
    "collapsed": true
   },
   "outputs": [],
   "source": []
  }
 ],
 "metadata": {
  "celltoolbar": "Raw Cell Format",
  "kernelspec": {
   "display_name": "Python 3",
   "language": "python",
   "name": "python3"
  },
  "language_info": {
   "codemirror_mode": {
    "name": "ipython",
    "version": 3
   },
   "file_extension": ".py",
   "mimetype": "text/x-python",
   "name": "python",
   "nbconvert_exporter": "python",
   "pygments_lexer": "ipython3",
   "version": "3.5.4"
  }
 },
 "nbformat": 4,
 "nbformat_minor": 0
}
